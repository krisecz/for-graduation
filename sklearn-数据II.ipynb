{
 "cells": [
  {
   "cell_type": "code",
   "execution_count": 436,
   "metadata": {
    "collapsed": true
   },
   "outputs": [],
   "source": [
    "import numpy as np\n",
    "import pandas as pd\n",
    "from sklearn.model_selection import train_test_split\n",
    "npg= pd.read_csv('data4.csv',header=0)\n",
    "npg_df = npg.values\n",
    "npg_arr= np.array(npg_df)\n",
    "scarler= preprocessing.MinMaxScaler()\n",
    "npg_arr_minmax=scarler.fit_transform(npg_arr)\n",
    "x= npg_arr_minmax[:,:2]\n",
    "y= npg_arr_minmax[:,2:3]\n"
   ]
  },
  {
   "cell_type": "code",
   "execution_count": 475,
   "metadata": {
    "collapsed": true
   },
   "outputs": [],
   "source": [
    "model_mlp = MLPRegressor(solver='lbfgs', hidden_layer_sizes=(8,),activation='relu',max_iter=100)"
   ]
  },
  {
   "cell_type": "code",
   "execution_count": 476,
   "metadata": {},
   "outputs": [
    {
     "name": "stdout",
     "output_type": "stream",
     "text": [
      "MSE: 0.00372421917185\n"
     ]
    }
   ],
   "source": [
    "from sklearn.model_selection import cross_val_predict\n",
    "from sklearn.model_selection import cross_val_score\n",
    "from sklearn import metrics\n",
    "from sklearn.model_selection import LeaveOneOut\n",
    "\n",
    "y=y.ravel()\n",
    "#score=cross_val_score(model_mlp,x,y,cv=5,scoring='neg_mean_squared_error')\n",
    "cv = LeaveOneOut()\n",
    "mlp_predict=cross_val_predict(model_mlp,x,y,cv=cv)\n",
    "#print(np.mean(score))\n",
    "print (\"MSE:\",metrics.mean_squared_error(y,mlp_predict))"
   ]
  },
  {
   "cell_type": "code",
   "execution_count": 484,
   "metadata": {},
   "outputs": [
    {
     "name": "stdout",
     "output_type": "stream",
     "text": [
      "[[  2.70000000e-01   3.30000000e+00   1.36800000e+02]\n",
      " [  3.00000000e-01   3.30000000e+00   1.61200000e+02]\n",
      " [  3.30000000e-01   3.30000000e+00   1.74400000e+02]\n",
      " [  3.60000000e-01   3.30000000e+00   2.34800000e+02]\n",
      " [  3.00000000e-01   2.50000000e+00   1.63900000e+02]\n",
      " [  3.00000000e-01   2.90000000e+00   1.54000000e+02]\n",
      " [  3.00000000e-01   3.30000000e+00   1.61200000e+02]\n",
      " [  3.00000000e-01   3.70000000e+00   1.66900000e+02]\n",
      " [  3.00000000e-01   4.10000000e+00   1.68600000e+02]\n",
      " [  3.00000000e-01   4.90000000e+00   1.40500000e+02]\n",
      " [  3.50000000e-01   4.90000000e+00   2.06300000e+02]\n",
      " [  4.00000000e-01   4.90000000e+00   2.59800000e+02]\n",
      " [  4.50000000e-01   4.90000000e+00   3.32500000e+02]\n",
      " [  4.00000000e-01   4.08000000e+00   3.09300000e+02]\n",
      " [  4.00000000e-01   4.49000000e+00   2.84100000e+02]\n",
      " [  4.00000000e-01   4.90000000e+00   2.59800000e+02]\n",
      " [  4.00000000e-01   5.30000000e+00   2.42600000e+02]\n",
      " [  4.00000000e-01   5.71000000e+00   2.15100000e+02]] \n",
      "\n",
      "[[ 0.          0.         -0.0897369 ]\n",
      " [ 0.          0.         -0.00150704]\n",
      " [ 0.          0.         -0.16842276]\n",
      " [ 0.          0.          0.05741601]\n",
      " [ 0.          0.          0.02675404]\n",
      " [ 0.          0.         -0.02917273]\n",
      " [ 0.          0.          0.00348788]\n",
      " [ 0.          0.         -0.0037895 ]\n",
      " [ 0.          0.         -0.03348676]\n",
      " [ 0.          0.          0.02099415]\n",
      " [ 0.          0.          0.02916349]\n",
      " [ 0.          0.          0.01177987]\n",
      " [ 0.          0.          0.03465644]\n",
      " [ 0.          0.          0.09013473]\n",
      " [ 0.          0.         -0.01872792]\n",
      " [ 0.          0.         -0.00924508]\n",
      " [ 0.          0.         -0.05892198]\n",
      " [ 0.          0.         -0.04588608]] \n",
      "\n",
      "[ 0.          0.          0.04073796]\n",
      "Using matplotlib backend: Qt5Agg\n"
     ]
    },
    {
     "data": {
      "text/plain": [
       "([<matplotlib.axis.XTick at 0x24e62e7a2e8>,\n",
       "  <matplotlib.axis.XTick at 0x24e62e73be0>,\n",
       "  <matplotlib.axis.XTick at 0x24e62e73940>,\n",
       "  <matplotlib.axis.XTick at 0x24e62e98eb8>,\n",
       "  <matplotlib.axis.XTick at 0x24e62e9f3c8>,\n",
       "  <matplotlib.axis.XTick at 0x24e62e9f898>,\n",
       "  <matplotlib.axis.XTick at 0x24e62e9fd68>,\n",
       "  <matplotlib.axis.XTick at 0x24e62ea7278>,\n",
       "  <matplotlib.axis.XTick at 0x24e62ea7780>,\n",
       "  <matplotlib.axis.XTick at 0x24e62ea7c88>,\n",
       "  <matplotlib.axis.XTick at 0x24e62e9f7f0>,\n",
       "  <matplotlib.axis.XTick at 0x24e62ea7860>,\n",
       "  <matplotlib.axis.XTick at 0x24e62eb12b0>,\n",
       "  <matplotlib.axis.XTick at 0x24e62eb17b8>,\n",
       "  <matplotlib.axis.XTick at 0x24e62eb1cc0>,\n",
       "  <matplotlib.axis.XTick at 0x24e62eb8208>,\n",
       "  <matplotlib.axis.XTick at 0x24e62eb8710>,\n",
       "  <matplotlib.axis.XTick at 0x24e62eb8c18>,\n",
       "  <matplotlib.axis.XTick at 0x24e62ec0198>],\n",
       " <a list of 19 Text xticklabel objects>)"
      ]
     },
     "execution_count": 484,
     "metadata": {},
     "output_type": "execute_result"
    }
   ],
   "source": [
    "d=scarler.inverse_transform(np.column_stack((x,mlp_predict)))\n",
    "e=scarler.inverse_transform(np.column_stack((x,y)))\n",
    "#print(d,'\\n')\n",
    "print(e,'\\n')\n",
    "print((e-d)/e,'\\n')\n",
    "\n",
    "print(np.mean(np.abs((e-d)/e),axis=0))\n",
    "%matplotlib auto\n",
    "plt.plot(d[:,2])\n",
    "plt.plot(e[:,2])\n",
    "plt.xticks(np.arange(1,20,1))"
   ]
  }
 ],
 "metadata": {
  "kernelspec": {
   "display_name": "Python 3",
   "language": "python",
   "name": "python3"
  },
  "language_info": {
   "codemirror_mode": {
    "name": "ipython",
    "version": 3
   },
   "file_extension": ".py",
   "mimetype": "text/x-python",
   "name": "python",
   "nbconvert_exporter": "python",
   "pygments_lexer": "ipython3",
   "version": "3.6.2"
  }
 },
 "nbformat": 4,
 "nbformat_minor": 2
}
